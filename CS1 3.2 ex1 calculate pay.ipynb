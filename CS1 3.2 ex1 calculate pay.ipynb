{
 "cells": [
  {
   "cell_type": "markdown",
   "metadata": {},
   "source": [
    "Exercise 1: Rewrite your pay computation to give the employee 1.5 times the hourly rate for hours worked above 40 hours.\n",
    "\n",
    "Enter Hours: 45\n",
    "Enter Rate: 10\n",
    "Pay: 475.0 #this should be 525.0"
   ]
  },
  {
   "cell_type": "code",
   "execution_count": 1,
   "metadata": {},
   "outputs": [
    {
     "name": "stdout",
     "output_type": "stream",
     "text": [
      "Enter hours: 45\n"
     ]
    }
   ],
   "source": [
    "#get hours\n",
    "hours = input('Enter hours: ')"
   ]
  },
  {
   "cell_type": "code",
   "execution_count": 2,
   "metadata": {},
   "outputs": [
    {
     "name": "stdout",
     "output_type": "stream",
     "text": [
      "Enter rate: 10\n"
     ]
    }
   ],
   "source": [
    "#get rate\n",
    "rate = input('Enter rate: ')"
   ]
  },
  {
   "cell_type": "code",
   "execution_count": 3,
   "metadata": {},
   "outputs": [
    {
     "name": "stdout",
     "output_type": "stream",
     "text": [
      "pay: 525.0\n"
     ]
    }
   ],
   "source": [
    "#use try except in case non-numerical data entered\n",
    "try :\n",
    "    #calculate base pay\n",
    "    hours = float(hours)\n",
    "    rate = float(rate)\n",
    "    base_pay = hours*rate\n",
    "    #print(base_pay)\n",
    "    \n",
    "    #calculate extra pay\n",
    "    if hours >40 :\n",
    "        hours2 = (float(hours)) - 40.0\n",
    "        rate2 = (float(rate))*1.5        \n",
    "        extra_pay = (float(hours2))*(float(rate2))\n",
    "        #print(extra_pay)\n",
    "    if hours <=40 :\n",
    "        extra_pay = 0\n",
    "        #print('no extra pay')\n",
    "        \n",
    "    #calculate total pay\n",
    "    total_pay = base_pay + extra_pay\n",
    "    print('pay:',total_pay)\n",
    "\n",
    "except :\n",
    "    print('error')"
   ]
  }
 ],
 "metadata": {
  "kernelspec": {
   "display_name": "Python 3",
   "language": "python",
   "name": "python3"
  },
  "language_info": {
   "codemirror_mode": {
    "name": "ipython",
    "version": 3
   },
   "file_extension": ".py",
   "mimetype": "text/x-python",
   "name": "python",
   "nbconvert_exporter": "python",
   "pygments_lexer": "ipython3",
   "version": "3.6.2"
  }
 },
 "nbformat": 4,
 "nbformat_minor": 2
}
