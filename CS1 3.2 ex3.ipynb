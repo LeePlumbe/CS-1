{
 "cells": [
  {
   "cell_type": "markdown",
   "metadata": {},
   "source": [
    "Exercise 3: Write a program to prompt for a score between 0.0 and 1.0. If the score is out of range, print an error message. If the score is between 0.0 and 1.0, print a grade using the following table:\n",
    "\n",
    "Score   Grade\n",
    ">= 0.9     A\n",
    ">= 0.8     B\n",
    ">= 0.7     C\n",
    ">= 0.6     D\n",
    "< 0.6    F\n",
    "~~~"
   ]
  },
  {
   "cell_type": "code",
   "execution_count": 1,
   "metadata": {},
   "outputs": [
    {
     "name": "stdout",
     "output_type": "stream",
     "text": [
      "Enter score (between 0.0 and 1.0): perfect\n",
      "Bad score\n"
     ]
    }
   ],
   "source": [
    "score = input('Enter score (between 0.0 and 1.0): ')\n",
    "\n",
    "try:\n",
    "    score = float(score)\n",
    "#a = type(score)\n",
    "#print(a)\n",
    "    if score > 1.0 :\n",
    "        print('Bad score')\n",
    "    elif score < 0 :\n",
    "        print('Bad score')\n",
    "    elif score >= 0.9 :\n",
    "        print('A')\n",
    "    elif score >= 0.8 :\n",
    "        print('B')\n",
    "    elif score >= 0.7 :\n",
    "        print('C')\n",
    "    elif score >= 0.6 :\n",
    "        print('D')\n",
    "    elif score < 0.6 :\n",
    "        print('F')\n",
    "except:\n",
    "    print('Bad score')\n",
    "  "
   ]
  },
  {
   "cell_type": "code",
   "execution_count": 2,
   "metadata": {},
   "outputs": [
    {
     "name": "stdout",
     "output_type": "stream",
     "text": [
      "Enter score (between 0.0 and 1.0): 10.0\n",
      "Bad score\n"
     ]
    }
   ],
   "source": [
    "score = input('Enter score (between 0.0 and 1.0): ')\n",
    "\n",
    "try:\n",
    "    score = float(score)\n",
    "    if score > 1.0 :\n",
    "        print('Bad score')\n",
    "    elif score < 0 :\n",
    "        print('Bad score')\n",
    "    elif score >= 0.9 :\n",
    "        print('A')\n",
    "    elif score >= 0.8 :\n",
    "        print('B')\n",
    "    elif score >= 0.7 :\n",
    "        print('C')\n",
    "    elif score >= 0.6 :\n",
    "        print('D')\n",
    "    elif score < 0.6 :\n",
    "        print('F')\n",
    "except:\n",
    "    print('Bad score')"
   ]
  },
  {
   "cell_type": "code",
   "execution_count": 3,
   "metadata": {},
   "outputs": [
    {
     "name": "stdout",
     "output_type": "stream",
     "text": [
      "Enter score (between 0.0 and 1.0): 0.75\n",
      "C\n"
     ]
    }
   ],
   "source": [
    "score = input('Enter score (between 0.0 and 1.0): ')\n",
    "\n",
    "try:\n",
    "    score = float(score)\n",
    "    if score > 1.0 :\n",
    "        print('Bad score')\n",
    "    elif score < 0 :\n",
    "        print('Bad score')\n",
    "    elif score >= 0.9 :\n",
    "        print('A')\n",
    "    elif score >= 0.8 :\n",
    "        print('B')\n",
    "    elif score >= 0.7 :\n",
    "        print('C')\n",
    "    elif score >= 0.6 :\n",
    "        print('D')\n",
    "    elif score < 0.6 :\n",
    "        print('F')\n",
    "except:\n",
    "    print('Bad score')"
   ]
  },
  {
   "cell_type": "code",
   "execution_count": null,
   "metadata": {},
   "outputs": [
    {
     "name": "stdout",
     "output_type": "stream",
     "text": [
      "Enter score (between 0.0 and 1.0): 0.5\n",
      "F\n"
     ]
    }
   ],
   "source": [
    "score = input('Enter score (between 0.0 and 1.0): ')\n",
    "\n",
    "try:\n",
    "    score = float(score)\n",
    "    if score > 1.0 :\n",
    "        print('Bad score')\n",
    "    elif score < 0 :\n",
    "        print('Bad score')\n",
    "    elif score >= 0.9 :\n",
    "        print('A')\n",
    "    elif score >= 0.8 :\n",
    "        print('B')\n",
    "    elif score >= 0.7 :\n",
    "        print('C')\n",
    "    elif score >= 0.6 :\n",
    "        print('D')\n",
    "    elif score < 0.6 :\n",
    "        print('F')\n",
    "except:\n",
    "    print('Bad score')"
   ]
  }
 ],
 "metadata": {
  "kernelspec": {
   "display_name": "Python 3",
   "language": "python",
   "name": "python3"
  },
  "language_info": {
   "codemirror_mode": {
    "name": "ipython",
    "version": 3
   },
   "file_extension": ".py",
   "mimetype": "text/x-python",
   "name": "python",
   "nbconvert_exporter": "python",
   "pygments_lexer": "ipython3",
   "version": "3.6.2"
  }
 },
 "nbformat": 4,
 "nbformat_minor": 2
}
