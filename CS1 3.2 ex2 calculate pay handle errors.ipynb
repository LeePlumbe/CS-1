{
 "cells": [
  {
   "cell_type": "markdown",
   "metadata": {},
   "source": [
    "Exercise 2: Rewrite your pay program using try and except so that your program handles non-numeric input gracefully by printing a message and exiting the program. The following shows two executions of the program:\n",
    "\n",
    "Enter Hours: 20\n",
    "Enter Rate: nine\n",
    "Error, please enter numeric input"
   ]
  },
  {
   "cell_type": "markdown",
   "metadata": {},
   "source": [
    "Enter Hours: forty\n",
    "Error, please enter numeric input"
   ]
  },
  {
   "cell_type": "code",
   "execution_count": 1,
   "metadata": {},
   "outputs": [
    {
     "name": "stdout",
     "output_type": "stream",
     "text": [
      "Enter hours: 20\n",
      "Enter base rate: nine\n",
      "Please enter numeric input.\n",
      "Enter base rate as numeric input: 9\n",
      "pay: 180.0\n"
     ]
    }
   ],
   "source": [
    "#get hours\n",
    "\n",
    "hours = input('Enter hours: ')\n",
    "\n",
    "#use try except in case non-numerical data has been entered\n",
    "try :\n",
    "    hours = float(hours)\n",
    "except: \n",
    "    print('Please enter numeric input.')\n",
    "    #another chance to enter correctly\n",
    "    hours = input('Enter hours as numeric input: ')\n",
    "    try:\n",
    "        hours = float(hours)\n",
    "    except: \n",
    "        print('Please enter numeric input; program ended.')\n",
    "        \n",
    "#get base rate\n",
    "rate = input('Enter base rate: ')\n",
    "\n",
    "#use try except in case non-numerical data has been entered\n",
    "try :\n",
    "    rate = float(rate)\n",
    "except: \n",
    "    print('Please enter numeric input.')\n",
    "    #another chance to enter correctly\n",
    "    rate = input('Enter base rate as numeric input: ')\n",
    "    try:\n",
    "        rate = float(rate)\n",
    "    except: \n",
    "        print('Please enter numeric input; program ended.')\n",
    "    \n",
    "base_pay = hours*rate\n",
    "#print(base_pay)\n",
    "    \n",
    "#calculate extra pay\n",
    "if hours >40 :\n",
    "    hours2 = (float(hours)) - 40.0\n",
    "    rate2 = (float(rate))*1.5        \n",
    "    extra_pay = (float(hours2))*(float(rate2))\n",
    "    #print(extra_pay)\n",
    "if hours <=40 :\n",
    "    extra_pay = 0\n",
    "    #print ('no extra pay')\n",
    "        \n",
    "#calculate total pay\n",
    "total_pay = base_pay + extra_pay\n",
    "print('pay:',total_pay)"
   ]
  },
  {
   "cell_type": "code",
   "execution_count": 2,
   "metadata": {},
   "outputs": [
    {
     "name": "stdout",
     "output_type": "stream",
     "text": [
      "Enter hours: fourty\n",
      "Please enter numeric input.\n",
      "Enter hours as numeric input: 40\n",
      "Enter base rate: 9\n",
      "pay: 360.0\n"
     ]
    }
   ],
   "source": [
    "#get hours\n",
    "\n",
    "hours = input('Enter hours: ')\n",
    "\n",
    "#use try except in case non-numerical data has been entered\n",
    "try :\n",
    "    hours = float(hours)\n",
    "except: \n",
    "    print('Please enter numeric input.')\n",
    "    #another chance to enter correctly\n",
    "    hours = input('Enter hours as numeric input: ')\n",
    "    try:\n",
    "        hours = float(hours)\n",
    "    except: \n",
    "        print('Please enter numeric input; program ended.')\n",
    "        \n",
    "#get base rate\n",
    "rate = input('Enter base rate: ')\n",
    "\n",
    "#use try except in case non-numerical data has been entered\n",
    "try :\n",
    "    rate = float(rate)\n",
    "except: \n",
    "    print('Please enter numeric input.')\n",
    "    #another chance to enter correctly\n",
    "    rate = input('Enter base rate as numeric input: ')\n",
    "    try:\n",
    "        rate = float(rate)\n",
    "    except: \n",
    "        print('Please enter numeric input; program ended.')\n",
    "    \n",
    "base_pay = hours*rate\n",
    "#print(base_pay)\n",
    "    \n",
    "#calculate extra pay\n",
    "if hours >40 :\n",
    "    hours2 = (float(hours)) - 40.0\n",
    "    rate2 = (float(rate))*1.5        \n",
    "    extra_pay = (float(hours2))*(float(rate2))\n",
    "    #print(extra_pay)\n",
    "if hours <=40 :\n",
    "    extra_pay = 0\n",
    "    #print ('no extra pay')\n",
    "        \n",
    "#calculate total pay\n",
    "total_pay = base_pay + extra_pay\n",
    "print('pay:',total_pay)"
   ]
  }
 ],
 "metadata": {
  "kernelspec": {
   "display_name": "Python 3",
   "language": "python",
   "name": "python3"
  },
  "language_info": {
   "codemirror_mode": {
    "name": "ipython",
    "version": 3
   },
   "file_extension": ".py",
   "mimetype": "text/x-python",
   "name": "python",
   "nbconvert_exporter": "python",
   "pygments_lexer": "ipython3",
   "version": "3.6.2"
  }
 },
 "nbformat": 4,
 "nbformat_minor": 2
}
